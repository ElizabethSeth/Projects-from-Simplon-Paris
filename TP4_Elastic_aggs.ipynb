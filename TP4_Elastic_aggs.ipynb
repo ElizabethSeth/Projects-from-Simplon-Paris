{
 "cells": [
  {
   "cell_type": "markdown",
   "metadata": {},
   "source": [
    "# Elastic Stack\n",
    "L'objectif du TP est de continuer à prendre en main la stack Elastic(elasticsearch & Kibana) en mode local avec des requêtes d'agrégation"
   ]
  },
  {
   "cell_type": "markdown",
   "metadata": {},
   "source": [
    "##  1- elasticsearch\n",
    "Utiliser l'environnement déja mis en place lors du TP1 et utilisé lors du TP2\n",
    "\n",
    "Vérifier que l'environnement est bien lancé :\n",
    "\n",
    "* L'url d'elasticsearch:  http://localhost:9200\n",
    "* L'url cerebro:  http://localhost:9000\n",
    "* L'url de Kibana : http://localhost:5601"
   ]
  },
  {
   "cell_type": "code",
   "execution_count": null,
   "metadata": {},
   "outputs": [],
   "source": []
  },
  {
   "cell_type": "markdown",
   "metadata": {},
   "source": [
    "## 2- Aggregations"
   ]
  },
  {
   "cell_type": "markdown",
   "metadata": {},
   "source": [
    "* 1- Ecrire l'aggrégation qui permet de chercher dans l'index, le nombre de films par année."
   ]
  },
  {
   "cell_type": "code",
   "execution_count": 4,
   "metadata": {},
   "outputs": [
    {
     "name": "stdout",
     "output_type": "stream",
     "text": [
      "Year: 2013, quantity of films: 448\n",
      "Year: 2012, quantity of films: 404\n",
      "Year: 2011, quantity of films: 308\n",
      "Year: 2009, quantity of films: 253\n",
      "Year: 2010, quantity of films: 249\n",
      "Year: 2008, quantity of films: 207\n",
      "Year: 2006, quantity of films: 204\n",
      "Year: 2007, quantity of films: 200\n",
      "Year: 2005, quantity of films: 170\n",
      "Year: 2014, quantity of films: 152\n"
     ]
    },
    {
     "name": "stderr",
     "output_type": "stream",
     "text": [
      "/tmp/ipykernel_2190/534794316.py:17: ElasticsearchWarning: Elasticsearch built-in security features are not enabled. Without authentication, your cluster could be accessible to anyone. See https://www.elastic.co/guide/en/elasticsearch/reference/7.17/security-minimal-setup.html to enable security.\n",
      "  response = es.search(index=\"movies2\", body=body)\n"
     ]
    }
   ],
   "source": [
    "from elasticsearch import Elasticsearch\n",
    "\n",
    "es = Elasticsearch(\"http://localhost:9200\")\n",
    "\n",
    "body = {\n",
    "    \"size\": 0,\n",
    "    \"aggs\": {\n",
    "        \"movies_per_year\": {\n",
    "            \"terms\": {\n",
    "                \"field\": \"fields.year\",\n",
    "                \"size\": 10\n",
    "            }\n",
    "        }\n",
    "    }\n",
    "}\n",
    "\n",
    "response = es.search(index=\"movies2\", body=body)\n",
    "\n",
    "for bucket in response['aggregations']['movies_per_year']['buckets']:\n",
    "    print(f\"Year: {bucket['key']}, quantity of films: {bucket['doc_count']}\")\n"
   ]
  },
  {
   "cell_type": "markdown",
   "metadata": {},
   "source": [
    "* 2- Donner la note (rating) moyenne des films."
   ]
  },
  {
   "cell_type": "code",
   "execution_count": 11,
   "metadata": {},
   "outputs": [
    {
     "name": "stdout",
     "output_type": "stream",
     "text": [
      "the average rating : 6.39\n"
     ]
    },
    {
     "name": "stderr",
     "output_type": "stream",
     "text": [
      "/tmp/ipykernel_2934/860179630.py:10: ElasticsearchWarning: Elasticsearch built-in security features are not enabled. Without authentication, your cluster could be accessible to anyone. See https://www.elastic.co/guide/en/elasticsearch/reference/7.17/security-minimal-setup.html to enable security.\n",
      "  response = es.search(index=\"movies2\", body=body)\n"
     ]
    }
   ],
   "source": [
    "body = {\n",
    "    \"size\": 0,\n",
    "    \"aggs\": {\n",
    "        \"average_rating\": {\n",
    "            \"avg\": {\"field\": \"fields.rating\"}\n",
    "        }\n",
    "    }\n",
    "}\n",
    "\n",
    "response = es.search(index=\"movies2\", body=body)\n",
    "\n",
    "avg_rating = response['aggregations']['average_rating']['value']\n",
    "print(f\"the average rating : {avg_rating:.2f}\")"
   ]
  },
  {
   "cell_type": "markdown",
   "metadata": {},
   "source": [
    "* 3- Donner la note (rating) moyenne, et le rang moyen des films de George Lucas."
   ]
  },
  {
   "cell_type": "code",
   "execution_count": 12,
   "metadata": {},
   "outputs": [
    {
     "name": "stdout",
     "output_type": "stream",
     "text": [
      "The average note films of George Lucas: 6.92\n",
      "the Aver rank of films George Lucas: 2580.98\n"
     ]
    },
    {
     "name": "stderr",
     "output_type": "stream",
     "text": [
      "/tmp/ipykernel_2934/1568887340.py:16: ElasticsearchWarning: Elasticsearch built-in security features are not enabled. Without authentication, your cluster could be accessible to anyone. See https://www.elastic.co/guide/en/elasticsearch/reference/7.17/security-minimal-setup.html to enable security.\n",
      "  response = es.search(index=\"movies2\", body=body)\n"
     ]
    }
   ],
   "source": [
    "body = {\n",
    "    \"size\": 0,\n",
    "    \"query\": {\n",
    "        \"match\": {\"fields.directors\": \"George Lucas\"}\n",
    "    },\n",
    "    \"aggs\": {\n",
    "        \"average_rating\": {\n",
    "            \"avg\": {\"field\": \"fields.rating\"}\n",
    "        },\n",
    "        \"average_rank\": {\n",
    "            \"avg\": {\"field\": \"fields.rank\"}\n",
    "        }\n",
    "    }\n",
    "}\n",
    "\n",
    "response = es.search(index=\"movies2\", body=body)\n",
    "\n",
    "avg_rating = response['aggregations']['average_rating']['value']\n",
    "avg_rank = response['aggregations']['average_rank']['value']\n",
    "\n",
    "print(f\"The average note films of George Lucas: {avg_rating:.2f}\")\n",
    "print(f\"the Aver rank of films George Lucas: {avg_rank:.2f}\")"
   ]
  },
  {
   "cell_type": "markdown",
   "metadata": {},
   "source": [
    "* 4- Donnez la note (rating) moyenne des films par année. Attention, il y a ici une imbrication d’agrégats."
   ]
  },
  {
   "cell_type": "code",
   "execution_count": 13,
   "metadata": {},
   "outputs": [
    {
     "name": "stdout",
     "output_type": "stream",
     "text": [
      "Year: 2013, Average rating : 5.96\n",
      "Year: 2012, Average rating : 5.96\n",
      "Year: 2011, Average rating : 6.11\n",
      "Year: 2009, Average rating : 6.27\n",
      "Year: 2010, Average rating : 6.24\n",
      "Year: 2008, Average rating : 6.23\n",
      "Year: 2006, Average rating : 6.32\n",
      "Year: 2007, Average rating : 6.42\n",
      "Year: 2005, Average rating : 6.29\n",
      "Year: 2014, Average rating : 4.86\n"
     ]
    },
    {
     "name": "stderr",
     "output_type": "stream",
     "text": [
      "/tmp/ipykernel_2934/2151625746.py:13: ElasticsearchWarning: Elasticsearch built-in security features are not enabled. Without authentication, your cluster could be accessible to anyone. See https://www.elastic.co/guide/en/elasticsearch/reference/7.17/security-minimal-setup.html to enable security.\n",
      "  response = es.search(index=\"movies2\", body=body)\n"
     ]
    }
   ],
   "source": [
    "body = {\n",
    "    \"size\": 0,\n",
    "    \"aggs\": {\n",
    "        \"by_year\": {\n",
    "            \"terms\": {\"field\": \"fields.year\", \"size\": 10},\n",
    "            \"aggs\": {\n",
    "                \"average_rating\": {\"avg\": {\"field\": \"fields.rating\"}}\n",
    "            }\n",
    "        }\n",
    "    }\n",
    "}\n",
    "\n",
    "response = es.search(index=\"movies2\", body=body)\n",
    "\n",
    "for bucket in response['aggregations']['by_year']['buckets']:\n",
    "    print(f\"Year: {bucket['key']}, Average rating : {bucket['average_rating']['value']:.2f}\")"
   ]
  },
  {
   "cell_type": "markdown",
   "metadata": {},
   "source": [
    " * 5- Donner la note (rating) minimum, maximum et moyenne des films par année."
   ]
  },
  {
   "cell_type": "code",
   "execution_count": 14,
   "metadata": {},
   "outputs": [
    {
     "name": "stdout",
     "output_type": "stream",
     "text": [
      "Year: 2013, min: 2.50, max: 8.70, avg: 5.96\n",
      "Year: 2012, min: 2.40, max: 8.60, avg: 5.96\n",
      "Year: 2011, min: 1.70, max: 8.50, avg: 6.11\n",
      "Year: 2009, min: 2.70, max: 8.40, avg: 6.27\n",
      "Year: 2010, min: 1.80, max: 8.80, avg: 6.24\n",
      "Year: 2008, min: 1.80, max: 9.00, avg: 6.23\n",
      "Year: 2006, min: 1.80, max: 8.50, avg: 6.32\n",
      "Year: 2007, min: 2.20, max: 8.30, avg: 6.42\n",
      "Year: 2005, min: 2.30, max: 8.30, avg: 6.29\n",
      "Year: 2014, min: 4.86, max: 4.86, avg: 4.86\n"
     ]
    },
    {
     "name": "stderr",
     "output_type": "stream",
     "text": [
      "/tmp/ipykernel_2934/3654158630.py:15: ElasticsearchWarning: Elasticsearch built-in security features are not enabled. Without authentication, your cluster could be accessible to anyone. See https://www.elastic.co/guide/en/elasticsearch/reference/7.17/security-minimal-setup.html to enable security.\n",
      "  response = es.search(index=\"movies2\", body=body)\n"
     ]
    }
   ],
   "source": [
    "body = {\n",
    "    \"size\": 0,\n",
    "    \"aggs\": {\n",
    "        \"ratings_by_year\": {\n",
    "            \"terms\": {\"field\": \"fields.year\", \"size\": 10},\n",
    "            \"aggs\": {\n",
    "                \"min_rating\": {\"min\": {\"field\": \"fields.rating\"}},\n",
    "                \"max_rating\": {\"max\": {\"field\": \"fields.rating\"}},\n",
    "                \"avg_rating\": {\"avg\": {\"field\": \"fields.rating\"}}\n",
    "            }\n",
    "        }\n",
    "    }\n",
    "}\n",
    "\n",
    "response = es.search(index=\"movies2\", body=body)\n",
    "\n",
    "for bucket in response['aggregations']['ratings_by_year']['buckets']:\n",
    "    print(f\"Year: {bucket['key']}, min: {bucket['min_rating']['value']:.2f}, max: {bucket['max_rating']['value']:.2f}, avg: {bucket['avg_rating']['value']:.2f}\")"
   ]
  },
  {
   "cell_type": "markdown",
   "metadata": {},
   "source": [
    "* 6- Donner le rang (rank) moyen des films par année et trier par ordre décroissant."
   ]
  },
  {
   "cell_type": "code",
   "execution_count": 15,
   "metadata": {},
   "outputs": [
    {
     "name": "stdout",
     "output_type": "stream",
     "text": [
      "Year: 1920, Average rang: 4950.00\n",
      "Year: 1921, Average rang: 4925.00\n",
      "Year: 2018, Average rang: 4896.00\n",
      "Year: 1932, Average rang: 4243.00\n",
      "Year: 1948, Average rang: 3786.00\n",
      "Year: 1930, Average rang: 3784.00\n",
      "Year: 1931, Average rang: 3658.00\n",
      "Year: 1957, Average rang: 3657.77\n",
      "Year: 1925, Average rang: 3564.50\n",
      "Year: 1933, Average rang: 3551.00\n"
     ]
    },
    {
     "name": "stderr",
     "output_type": "stream",
     "text": [
      "/tmp/ipykernel_2934/2335402546.py:17: ElasticsearchWarning: Elasticsearch built-in security features are not enabled. Without authentication, your cluster could be accessible to anyone. See https://www.elastic.co/guide/en/elasticsearch/reference/7.17/security-minimal-setup.html to enable security.\n",
      "  response = es.search(index=\"movies2\", body=body)\n"
     ]
    }
   ],
   "source": [
    "body = {\n",
    "    \"size\": 0,\n",
    "    \"aggs\": {\n",
    "        \"rank_by_year\": {\n",
    "            \"terms\": {\n",
    "                \"field\": \"fields.year\",\n",
    "                \"size\": 10,\n",
    "                \"order\": {\"avg_rank\": \"desc\"}\n",
    "            },\n",
    "            \"aggs\": {\n",
    "                \"avg_rank\": {\"avg\": {\"field\": \"fields.rank\"}}\n",
    "            }\n",
    "        }\n",
    "    }\n",
    "}\n",
    "\n",
    "response = es.search(index=\"movies2\", body=body)\n",
    "\n",
    "for bucket in response['aggregations']['rank_by_year']['buckets']:\n",
    "    print(f\"Year: {bucket['key']}, Average rang: {bucket['avg_rank']['value']:.2f}\")"
   ]
  },
  {
   "cell_type": "markdown",
   "metadata": {},
   "source": [
    "* 7- Compter le nombre de films par tranche de note (0-1.9, 2-3.9, 4-5.9...). \n",
    "\n",
    "Indication : group_range.\n"
   ]
  },
  {
   "cell_type": "code",
   "execution_count": null,
   "metadata": {},
   "outputs": [],
   "source": [
    "body = {\n",
    "    \"size\": 0,\n",
    "    \"aggs\": {\n",
    "        \"rating_ranges\": {\n",
    "            \"range\": {\n",
    "                \"field\": \"fields.rating\",\n",
    "                \"ranges\": [\n",
    "                    {\"from\": 0, \"to\": 1.9},\n",
    "                    {\"from\": 2, \"to\": 3.9},\n",
    "                    {\"from\": 4, \"to\": 5.9},\n",
    "                    {\"from\": 6, \"to\": 7.9},\n",
    "                    {\"from\": 8, \"to\": 10}\n",
    "                ]\n",
    "            }\n",
    "        }\n",
    "    }\n",
    "}\n",
    "\n",
    "response = es.search(index=\"movies2\", body=body)\n",
    "\n",
    "for bucket in response['aggregations']['rating_ranges']['buckets']:\n",
    "    print(f\"Rating from {bucket['from']} to {bucket.get('to', 'более')}: quantity of films: {bucket['doc_count']}\")"
   ]
  },
  {
   "cell_type": "markdown",
   "metadata": {},
   "source": [
    " * 8- grouper par “genre” de film, et donner leurs occurrences :\n",
    " \n",
    "indication : un mapping des propriétes peut être nécessaire..\n",
    " "
   ]
  },
  {
   "cell_type": "code",
   "execution_count": null,
   "metadata": {},
   "outputs": [],
   "source": [
    "body = {\n",
    "    \"size\": 0,\n",
    "    \"aggs\": {\n",
    "        \"movies_by_genre\": {\n",
    "            \"terms\": {\n",
    "                \"field\": \"fields.genres\",\n",
    "                \"size\": 20\n",
    "            }\n",
    "        }\n",
    "    }\n",
    "}\n",
    "\n",
    "response = es.search(index=\"movies2\", body=body)\n",
    "\n",
    "print(\"Quantity of movies by genre:\")\n",
    "for bucket in response['aggregations']['movies_by_genre']['buckets']:\n",
    "    print(f\"Genre: {bucket['key']}, quantity: {bucket['doc_count']}\")"
   ]
  },
  {
   "cell_type": "markdown",
   "metadata": {},
   "source": [
    "### Bonus\n",
    "\n",
    "   * Donner le nombre d’occurrences de chaque réalisateur ou réalisatrice.\n",
    "\n",
    "   * Donner la note (rating) moyenne, le rang min et max, des films par acteur. \n",
    "   \n",
    "   * Nombre de réalisateurs distincts pour les films d’aventure.\n",
    "\n",
    "   * Termes les plus utilisés (agrégat : significant_terms) dans les descriptions des films de George Lucas.\n"
   ]
  },
  {
   "cell_type": "markdown",
   "metadata": {},
   "source": [
    "* Donner la note moyenne par genre,\n",
    "* Donner une note minimale, maximale et moyenne pour chaque genre,\n",
    "* Donner le classement moyen des films par an et les trier par ordre ascendant,\n",
    "* Donner le rang moyen du film et la note moyenne du film pour chaque réalisateur. Trier le résultat de manière décroissante en moyenne de rating\n",
    "* Donner les termes occurrences extraites du titre de chaque film. \n",
    "\n"
   ]
  },
  {
   "cell_type": "markdown",
   "metadata": {},
   "source": [
    "# 3- Visualiser les résultats avec Kibana\n",
    "\n",
    "lancer kibana : https://www.elastic.co/fr/downloads/kibana\n",
    "\n",
    "Vérifier que c'est bien démarré via l'URL:  http://localhost:5601\n",
    "\n",
    "RQ: Analyser les diff paramètres dans le fichier de conf: config/kibana.yml\n",
    "\n",
    "Charger votre index movies dans Elasticsearch et contruire un Dashboard avec 3 Graphes pertinents de votre choix"
   ]
  },
  {
   "cell_type": "code",
   "execution_count": null,
   "metadata": {},
   "outputs": [],
   "source": []
  },
  {
   "cell_type": "markdown",
   "metadata": {},
   "source": [
    "# Ressources utiles:\n",
    "\n",
    "voir https://www.elastic.co/guide/en/elasticsearch/reference/current/search-aggregations.html\n",
    "https://www.elastic.co/guide/en/elasticsearch/reference/current/indices-put-mapping.html\n",
    "\n"
   ]
  },
  {
   "cell_type": "code",
   "execution_count": null,
   "metadata": {},
   "outputs": [],
   "source": []
  }
 ],
 "metadata": {
  "kernelspec": {
   "display_name": "elast_env",
   "language": "python",
   "name": "python3"
  },
  "language_info": {
   "codemirror_mode": {
    "name": "ipython",
    "version": 3
   },
   "file_extension": ".py",
   "mimetype": "text/x-python",
   "name": "python",
   "nbconvert_exporter": "python",
   "pygments_lexer": "ipython3",
   "version": "3.12.9"
  },
  "toc": {
   "base_numbering": 1,
   "nav_menu": {},
   "number_sections": true,
   "sideBar": true,
   "skip_h1_title": true,
   "title_cell": "Table of Contents",
   "title_sidebar": "Contents",
   "toc_cell": false,
   "toc_position": {},
   "toc_section_display": true,
   "toc_window_display": true
  }
 },
 "nbformat": 4,
 "nbformat_minor": 2
}
